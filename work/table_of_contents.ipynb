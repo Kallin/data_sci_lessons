{
 "cells": [
  {
   "cell_type": "markdown",
   "metadata": {},
   "source": [
    "### Welcome to the Intro to Data Science Tutorial!\n",
    "\n",
    "Throughout these lessons I hope we can all learn the fundamentals required to begin applying data-science and machine-learning techniques here at Financeit. Let's get started!\n"
   ]
  },
  {
   "cell_type": "markdown",
   "metadata": {},
   "source": [
    "Lesson 0: [Introduction to Machine Learning](lesson_0/intro.ipynb)"
   ]
  },
  {
   "cell_type": "markdown",
   "metadata": {},
   "source": [
    "Lesson 1: Tools\n",
    "\n",
    "Before we dig into the really fun stuff we'll have to cover some basics.\n",
    "\n",
    "- [Intro to Jupyter](lesson_1/jupyter.ipynb)\n",
    "- [Intro to Python](lesson_1/python.ipynb)\n",
    "- [Intro to Numpy](lesson_1/numpy.ipynb)\n",
    "- [Intro to Pandas](lesson_1/pandas.ipynb)"
   ]
  },
  {
   "cell_type": "markdown",
   "metadata": {},
   "source": [
    "\n",
    "**Under Construction**\n",
    "Lesson 2: ML Landscape & Classic ML Examples\n",
    "\n",
    "- classification vs. regression\n",
    "- supervised/unsupervised\n",
    "- some important algorithms\n",
    "- the ml cycle (data cleaning, tuning, verification)\n",
    "\n",
    "tbd.. thinking of looking at a couple classic examples in depth (Iris Flower Set, MNIST)."
   ]
  },
  {
   "cell_type": "markdown",
   "metadata": {},
   "source": [
    "Lesson 3: Real Life ML Examples\n",
    "\n",
    "- Look at a couple Kaggle sets and apply best practices to develop some models\n",
    "- https://www.kaggle.com/c/titanic\n",
    "- https://www.kaggle.com/c/instacart-market-basket-analysis"
   ]
  }
 ],
 "metadata": {
  "kernelspec": {
   "display_name": "Python 3",
   "language": "python",
   "name": "python3"
  },
  "language_info": {
   "codemirror_mode": {
    "name": "ipython",
    "version": 3
   },
   "file_extension": ".py",
   "mimetype": "text/x-python",
   "name": "python",
   "nbconvert_exporter": "python",
   "pygments_lexer": "ipython3",
   "version": "3.5.2"
  }
 },
 "nbformat": 4,
 "nbformat_minor": 2
}
