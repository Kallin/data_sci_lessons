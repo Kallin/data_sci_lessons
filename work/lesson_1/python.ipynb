{
 "cells": [
  {
   "cell_type": "markdown",
   "metadata": {},
   "source": [
    "### Welcome to Python!\n",
    "\n",
    "The Python language is one of the most popular programming languages available, and has become particularly ubiqutous in the data-science, machine-learning world in recent years. We're using **Python3** here, though **Python2** is still widely used. \n",
    "\n",
    "The full core Python 3.6.1 docs are available [here](https://docs.python.org/3/), though right now we'll skim over most of it and just look at the very basics. For a more thorough tutorial, check the [Official Python Tutorial](https://docs.python.org/3/tutorial/index.html), or the more succint [Google Python Class](https://developers.google.com/edu/python/)."
   ]
  },
  {
   "cell_type": "markdown",
   "metadata": {},
   "source": [
    "#### Basic Math Operations\n",
    "\n",
    "Like most other languages, common mathematical operations are available in python. For each of the samples below, try inserting new code cells and running the given code.\n",
    "```python\n",
    "# addition\n",
    "2 + 3\n",
    "\n",
    "# multiple terms\n",
    "2 + (3 / 5)\n",
    "\n",
    "# division\n",
    "10 / 3\n",
    "\n",
    "# floor division\n",
    "10 // 3\n",
    "\n",
    "# exponents\n",
    "2 ** 3\n",
    "```\n"
   ]
  },
  {
   "cell_type": "markdown",
   "metadata": {},
   "source": [
    "#### Variables\n",
    "\n",
    "Of course, you can assign values to variables. For naming variables, much like Ruby, use lowercase with words separated by underscores as necessary to improve readability. Try running the following code sample.\n",
    "\n",
    "```python\n",
    "x = 1\n",
    "y = x\n",
    "z = x + y\n",
    "print(z ** z)\n",
    "```"
   ]
  },
  {
   "cell_type": "markdown",
   "metadata": {},
   "source": [
    "#### Strings\n",
    "\n",
    "Like any modern language, there's a suite of String related methods and libraries available in Python. Try the following samples:\n",
    "\n",
    "```python\n",
    "# multi-line strings\n",
    "print(\"I span,\\nmultiple lines.\")\n",
    "\n",
    "# concatenation\n",
    "print(\"I am \" + \"a string with some numbers, \" + str(1) + str(.5))\n",
    "\n",
    "#indexing\n",
    "word = 'Python'\n",
    "print(\"first char {}\".format(word[0]))\n",
    "print(\"last char {}\".format(word[-1]))\n",
    "\n",
    "#slicing\n",
    "print(\"first 2 chars {}\".format(word[0:2]))\n",
    "print(\"last 3 chars {}\".format(word[3:6]))\n",
    "\n",
    "# Slice indices have useful defaults; an omitted first index defaults to zero, an omitted second index defaults to the size of the string being sliced.\n",
    "print(\"first 2 chars {}\".format(word[:2]))\n",
    "print(\"last 3 chars {}\".format(word[-3:]))\n",
    "\n",
    "# length of a string requires the 'len' function\n",
    "print(\"length of word {}\".format(len(word)))\n",
    "```\n",
    "\n",
    "\n"
   ]
  },
  {
   "cell_type": "markdown",
   "metadata": {},
   "source": [
    "#### Lists\n",
    "\n",
    "A fundamental data-structure, Python has [first-class support](https://docs.python.org/3/tutorial/datastructures.html#more-on-lists) for lists much like Ruby does. Try the following samples.\n",
    "\n",
    "```python\n",
    "my_list = [1, 3, 5, 3, 2]\n",
    "\n",
    "# access by index\n",
    "print(my_list[0])\n",
    "\n",
    "# sort\n",
    "my_list.sort()\n",
    "print(my_list)\n",
    "\n",
    "# count elements\n",
    "print(my_list.count(3))\n",
    "\n",
    "# combine lists\n",
    "print(my_list + [7,8,9])\n",
    "```"
   ]
  },
  {
   "cell_type": "markdown",
   "metadata": {},
   "source": [
    "####  Dicts (aka Hashes, aka Maps aka Key-Value Pairs)\n",
    "Python also supports another essential data structure which goes by many names, but in the case of Python they call it a dictionary. Try the following samples.\n",
    "\n",
    "```python\n",
    "credit_scores = {\n",
    "    'bob': 600,\n",
    "    'sue': 700,\n",
    "    'dan': 800,\n",
    "    'liz': 900\n",
    "}\n",
    "\n",
    "print(credit_scores)\n",
    "\n",
    "# the keys of the dict\n",
    "print(credit_scores.keys())\n",
    "\n",
    "# the values of the dict\n",
    "print(credit_scores.values())\n",
    "\n",
    "# process the dict into something else\n",
    "poor_credit = {k: v < 700 for k, v in credit_scores.items()}\n",
    "print(poor_credit)\n",
    "```"
   ]
  },
  {
   "cell_type": "markdown",
   "metadata": {},
   "source": [
    "#### Functions\n",
    "Functions/methods are defined in Python using the 'def' keyword. Something to keep in mind when writing functions is that indentation matters; Python won't execute if code is not appropriately indented, and indentation is used in place of something like opening/closing braces.\n",
    "\n",
    "Try running this fibonacci function with a few parameters.\n",
    "\n",
    "```python\n",
    "def fib(n):    # write Fibonacci series up to n\n",
    "    a, b = 0, 1\n",
    "    while a < n:\n",
    "        print(a)\n",
    "        a, b = b, a + b\n",
    "        \n",
    "print('fib for 10')        \n",
    "fib(10)        \n",
    "print('fib for 1000')\n",
    "fib(1000)        \n",
    "```"
   ]
  },
  {
   "cell_type": "markdown",
   "metadata": {},
   "source": [
    "#### Libraries\n",
    "\n",
    "Python comes with many built-in libraries, called 'modules', and you access them via import statements like so:\n",
    "```python\n",
    "import math\n",
    "import random\n",
    "```\n",
    "which would give you access to the [math](https://docs.python.org/3/library/math.html#module-math) and [random](https://docs.python.org/3/library/random.html#module-random) modules. We're going to be mostly using built-in libraries in these lessons rather than actually building anything ourselves, so this is pretty important! Try running some of the methods from these modules.\n",
    "\n",
    "```python\n",
    "# cosine of pi\n",
    "print(math.cos(math.pi))\n",
    "\n",
    "# random number between 1 and 100\n",
    "print(random.randint(1,100))\n",
    "```"
   ]
  },
  {
   "cell_type": "markdown",
   "metadata": {},
   "source": [
    "#### Onwards !\n",
    "\n",
    "You should know the very basics of Python at this point. Why not move on to Part 3, [Intro to Numpy?](numpy.ipynb) ?."
   ]
  }
 ],
 "metadata": {
  "kernelspec": {
   "display_name": "Python 3",
   "language": "python",
   "name": "python3"
  },
  "language_info": {
   "codemirror_mode": {
    "name": "ipython",
    "version": 3
   },
   "file_extension": ".py",
   "mimetype": "text/x-python",
   "name": "python",
   "nbconvert_exporter": "python",
   "pygments_lexer": "ipython3",
   "version": "3.5.2"
  }
 },
 "nbformat": 4,
 "nbformat_minor": 2
}
