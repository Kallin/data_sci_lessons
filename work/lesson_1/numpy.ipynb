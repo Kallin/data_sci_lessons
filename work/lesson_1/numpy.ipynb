{
 "cells": [
  {
   "cell_type": "markdown",
   "metadata": {},
   "source": [
    "### Welcome to Jupyter!\n",
    "\n",
    "What is Jupyter?\n",
    "\n",
    "*From the docs...*\n",
    "> The notebook extends the console-based approach to interactive computing in a qualitatively new direction, providing a web-based application suitable for capturing the whole computation process: developing, documenting, and executing code, as well as communicating the results...\n",
    "\n",
    "For our purposes, Jupyter is a web-based IDE that's especially great for rapid development of python code. The Python environment, along with all required libraries, has already been setup using [Anacondas](https://www.continuum.io/downloads) via the [Jupyter Data-Science Notebook](https://github.com/jupyter/docker-stacks) docker image, so there's nothing left to do but start coding!\n",
    "\n",
    "Full Jupyter docs are [available here](http://jupyter-notebook.readthedocs.io/en/latest/examples/Notebook/examples_index.html), but let's just cover some of the highlights here.\n",
    "\n",
    "Markdown docs available [here](http://daringfireball.net/projects/markdown/syntax)."
   ]
  },
  {
   "cell_type": "markdown",
   "metadata": {},
   "source": [
    "What is it ? \n",
    "http://www.numpy.org/\n",
    "\n",
    "Numpy points:\n",
    "\n",
    "\n",
    "\n",
    "- special array (ndarray)\n",
    "- fancy creation of said arrays\n",
    "- vectorization\n",
    "- fast (low-level C hooks)\n",
    "- fancy stuff (Linear Algebra, Fourier Transforms, etc.)\n",
    "- lots more\n",
    "\n",
    "\n",
    "great reference here:\n",
    "https://www.safaribooksonline.com/library/view/python-for-data/9781449323592/ch04.html"
   ]
  },
  {
   "cell_type": "code",
   "execution_count": null,
   "metadata": {},
   "outputs": [],
   "source": [
    "import numpy as np\n",
    "\n",
    "a = np.arange(15).reshape(3, 5)\n",
    "\n",
    "a"
   ]
  },
  {
   "cell_type": "code",
   "execution_count": null,
   "metadata": {},
   "outputs": [],
   "source": [
    "(np.arange(15) * 5 / 3 % 3)"
   ]
  },
  {
   "cell_type": "code",
   "execution_count": null,
   "metadata": {
    "collapsed": true
   },
   "outputs": [],
   "source": [
    "def fib(n):    # write Fibonacci series up to n\n",
    "    a, b = 0, 1\n",
    "    while a < n:\n",
    "        print(a)\n",
    "        a, b = b, a + b"
   ]
  },
  {
   "cell_type": "code",
   "execution_count": null,
   "metadata": {},
   "outputs": [],
   "source": [
    "n = 100\n",
    "\n",
    "def classic_array_multiply():\n",
    "    product = []\n",
    "    list_a = [i for i in range(n)]\n",
    "    list_b = [i + n for i in range(n)]    \n",
    "    for a, b in zip(list_a, list_b):\n",
    "        product.append(a * b)\n",
    "    return product\n",
    "\n",
    "    \n",
    "def numpy_array_multiply():\n",
    "    list_a = np.arange(n)\n",
    "    list_b = np.arange(start=n, stop=n + n)\n",
    "    return list_a * list_b"
   ]
  },
  {
   "cell_type": "code",
   "execution_count": null,
   "metadata": {},
   "outputs": [],
   "source": [
    "print('numpy timing')\n",
    "%timeit numpy_array_multiply()\n",
    "print('classic timing')\n",
    "%timeit classic_array_multiply()"
   ]
  }
 ],
 "metadata": {
  "kernelspec": {
   "display_name": "Python 3",
   "language": "python",
   "name": "python3"
  },
  "language_info": {
   "codemirror_mode": {
    "name": "ipython",
    "version": 3
   },
   "file_extension": ".py",
   "mimetype": "text/x-python",
   "name": "python",
   "nbconvert_exporter": "python",
   "pygments_lexer": "ipython3",
   "version": "3.5.2"
  }
 },
 "nbformat": 4,
 "nbformat_minor": 2
}
