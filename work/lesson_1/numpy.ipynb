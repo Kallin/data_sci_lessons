{
 "cells": [
  {
   "cell_type": "markdown",
   "metadata": {},
   "source": [
    "### Intro to Numpy\n",
    "\n",
    "What is Numpy?\n",
    "\n",
    "From the docs...\n",
    "> NumPy is the fundamental package for scientific computing with Python.\n",
    "\n",
    "[Numpy](http://www.numpy.org/) is a very critical library in the Python eco-system. Although we won't be using it directly that often, it is used extensively in both Pandas and Scikit-Learn, which *are* two libraries that we will be seeing a lot while exploring Machine Learning. As such, it's worth learning at least a little bit about it.\n",
    "\n",
    "We also have access to a pretty great Numpy Resource within the Safari Online book 'Python for Data Analysis'. Specifically, [chapter 4](https://www.safaribooksonline.com/library/view/python-for-data/9781449323592/ch04.html) has a very thorough rundown of Numpy, and later chapters go into even more in depth."
   ]
  },
  {
   "cell_type": "markdown",
   "metadata": {},
   "source": [
    "### The NDArray\n",
    "\n",
    "One class lies at the core of Numpy: [numpy.ndarray](https://docs.scipy.org/doc/numpy/reference/arrays.ndarray.html#). The ND-Array (N-Dimensional array) is an optimized structure for the storage and manipulation of large multi dimensional arrays. Python has native support for lists without Numpy of course, and it is trival to move back and forth between Numpy arrays and Python lists. The actual reasons that Numpy Arrays perform so much better than Python arrays is beyond the scope of this lesson, but some of the more easily understood benefits are worth examining.\n",
    "\n",
    "\n"
   ]
  },
  {
   "cell_type": "markdown",
   "metadata": {},
   "source": [
    "#### Array Creation\n",
    "\n",
    "Before you can start doing anything intersting with Numpy arrays you'll have to create one.\n",
    "\n",
    "\n",
    "In Python you might create a list of the numbers 0 to 99 as follows:\n",
    "```python\n",
    "[i for i in range(100)]\n",
    "```\n",
    "In Numpy, an equivalent array can be created like:\n",
    "\n",
    "```python\n",
    "import np\n",
    "\n",
    "# from a python list\n",
    "np.asarray([i for i in range(100)])\n",
    "\n",
    "# more simply using built-in numpy methods\n",
    "np.arange(100)\n",
    "```\n",
    "\n",
    "In fact, numpy has a huge [suite of methods](https://docs.scipy.org/doc/numpy-1.12.0/reference/routines.array-creation.html) for creating arrays. Some of the interesting ones include (try running these!):"
   ]
  },
  {
   "cell_type": "code",
   "execution_count": null,
   "metadata": {},
   "outputs": [],
   "source": [
    "import numpy as np\n",
    "\n",
    "# an array with even steps throughout a given range\n",
    "np.arange(start=10, stop=50, step=3)"
   ]
  },
  {
   "cell_type": "code",
   "execution_count": null,
   "metadata": {},
   "outputs": [],
   "source": [
    "# an array of a given # of samples, evenly distributed across a desired range\n",
    "np.linspace(2.0, 10.0, num=20)"
   ]
  },
  {
   "cell_type": "code",
   "execution_count": null,
   "metadata": {
    "collapsed": true
   },
   "outputs": [],
   "source": [
    "# an array of a trillion zeroes\n",
    "np.zeros(1000000000000)"
   ]
  },
  {
   "cell_type": "code",
   "execution_count": null,
   "metadata": {},
   "outputs": [],
   "source": [
    "# a 10x10 identity matrix (2D-array)\n",
    "np.eye(10)"
   ]
  },
  {
   "cell_type": "markdown",
   "metadata": {},
   "source": [
    "Try creating a code block below and build some arrays using the methods described above."
   ]
  },
  {
   "cell_type": "code",
   "execution_count": null,
   "metadata": {
    "collapsed": true
   },
   "outputs": [],
   "source": [
    "### Your code here!"
   ]
  },
  {
   "cell_type": "markdown",
   "metadata": {},
   "source": [
    "#### Vectorization\n",
    "\n",
    "Numpy comes supplied with a bunch of methods known as 'Universal Functions', which are special functions that can operate on Numpy arrays in an extremely fast fashion known as 'vectorization'. We can, for instance, multiply two arrays together, multipy an array by some scalar value, compare two arrays element-by-element for equality, etc. There are a slew of ufuncs listed [here](https://docs.scipy.org/doc/numpy-1.12.0/reference/ufuncs.html). Let's see some examples (try running these!):"
   ]
  },
  {
   "cell_type": "code",
   "execution_count": null,
   "metadata": {},
   "outputs": [],
   "source": [
    "# 0..9, multiplied by 2\n",
    "(np.arange(10) * 2)"
   ]
  },
  {
   "cell_type": "code",
   "execution_count": null,
   "metadata": {},
   "outputs": [],
   "source": [
    "# sin function up to PI/2 rads\n",
    "x_range = np.linspace(0.0, 2 * np.pi, num=10)\n",
    "np.sin(x_range)"
   ]
  },
  {
   "cell_type": "code",
   "execution_count": null,
   "metadata": {},
   "outputs": [],
   "source": [
    "# the same function above, plotted\n",
    "import matplotlib.pylab as plt\n",
    "\n",
    "plt.plot(x_range, np.sin(x_range))\n",
    "plt.xlabel('Angle [rad]')\n",
    "plt.ylabel('sin(x)')\n",
    "plt.axis('tight')\n",
    "plt"
   ]
  },
  {
   "cell_type": "code",
   "execution_count": null,
   "metadata": {},
   "outputs": [],
   "source": [
    "# boolean check against elements of an array\n",
    "list_a = np.arange(50)\n",
    "list_a < 25"
   ]
  },
  {
   "cell_type": "markdown",
   "metadata": {},
   "source": [
    "#### Performance\n",
    "\n",
    "[The Numpy API](https://docs.scipy.org/doc/numpy/reference/routines.html) is pretty extensitive, but what really makes it so critical is how much faster it is than regular Python. In many cases, using Numpy arrays will result in code that is 10 to 100 times faster than regular Python. \n",
    "\n",
    "Let's see this for ourselves. The following code contains two implementations of a method that takes two arrays and multiplies them together element-wise to create a 3rd array containing the product. The 'classic' method uses python lists, and 'numpy' uses the NDArray. Initially the arrays will be of length 100."
   ]
  },
  {
   "cell_type": "code",
   "execution_count": null,
   "metadata": {
    "collapsed": true
   },
   "outputs": [],
   "source": [
    "n = 10000\n",
    "\n",
    "def classic_array_multiply():\n",
    "    product = []\n",
    "    list_a = [i for i in range(n)]\n",
    "    list_b = [i + n for i in range(n)]    \n",
    "    for a, b in zip(list_a, list_b):\n",
    "        product.append(a * b)\n",
    "    return product\n",
    "\n",
    "    \n",
    "def numpy_array_multiply():\n",
    "    list_a = np.arange(n)\n",
    "    list_b = np.arange(start=n, stop=n + n)\n",
    "    return list_a * list_b"
   ]
  },
  {
   "cell_type": "markdown",
   "metadata": {},
   "source": [
    "We'll test these method using an IPython (interactive-python) \"magic\" called 'timeit'. There are many more magics listed [here](https://ipython.org/ipython-doc/3/interactive/magics.html). 'timeit' will run a block of code repeatedly, and display some performance statistics about it. Run the following code and try to understand the results. Then, try increasing the 'n' value in the above code and see how the performance differs."
   ]
  },
  {
   "cell_type": "code",
   "execution_count": null,
   "metadata": {},
   "outputs": [],
   "source": [
    "print('numpy timing')\n",
    "%timeit numpy_array_multiply()\n",
    "print('classic timing')\n",
    "%timeit classic_array_multiply()"
   ]
  },
  {
   "cell_type": "markdown",
   "metadata": {},
   "source": [
    "In case you're unfamilar with the symbols in the timing output, here's a refresher on the metric scale. Most important here would be 'milli', 'micro', and 'nano'.\n",
    "\n",
    "![metric scale](http://www.bustatech.com/wp-content/uploads/2011/11/image.png)"
   ]
  },
  {
   "cell_type": "markdown",
   "metadata": {
    "collapsed": true
   },
   "source": [
    "#### And so much more !!\n",
    "\n",
    "We've only touched on the very basics of Numpy, but this should be enough so that you at least have a point of reference if you are exposed to the Numpy APIs on your machine learning quest.\n",
    "\n",
    "If you are interested in digging even deeper into the mathematic/scientific angle of all this then you may also want to look at [SciPy](https://docs.scipy.org/doc/scipy/reference/), a computing library built on top of Numpy that includes many advanced features such as:\n",
    "\n",
    "- Calculus/Integration\n",
    "- Fourier Transforms\n",
    "- Signal Processing\n",
    "- much more.."
   ]
  },
  {
   "cell_type": "markdown",
   "metadata": {},
   "source": [
    "#### Onwards !\n",
    "\n",
    "You are now a Numpy savante! Why not move on to Part 4, [Intro to Pandas](pandas.ipynb)?"
   ]
  }
 ],
 "metadata": {
  "kernelspec": {
   "display_name": "Python 3",
   "language": "python",
   "name": "python3"
  },
  "language_info": {
   "codemirror_mode": {
    "name": "ipython",
    "version": 3
   },
   "file_extension": ".py",
   "mimetype": "text/x-python",
   "name": "python",
   "nbconvert_exporter": "python",
   "pygments_lexer": "ipython3",
   "version": "3.5.2"
  }
 },
 "nbformat": 4,
 "nbformat_minor": 2
}
