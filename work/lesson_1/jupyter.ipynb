{
 "cells": [
  {
   "cell_type": "markdown",
   "metadata": {},
   "source": [
    "### Welcome to Jupyter!\n",
    "\n",
    "What is Jupyter?\n",
    "\n",
    "*From the docs...*\n",
    "> The notebook extends the console-based approach to interactive computing in a qualitatively new direction, providing a web-based application suitable for capturing the whole computation process: developing, documenting, and executing code, as well as communicating the results...\n",
    "\n",
    "For our purposes, Jupyter is a web-based IDE that's especially great for rapid development of python code. The Python environment, along with all required libraries, has already been setup using [Anacondas](https://www.continuum.io/downloads) via the [Jupyter Data-Science Notebook](https://github.com/jupyter/docker-stacks) docker image, so there's nothing left to do but start coding!\n",
    "\n",
    "Full Jupyter docs are [available here](http://jupyter-notebook.readthedocs.io/en/latest/examples/Notebook/examples_index.html), but let's just cover some of the highlights here.\n",
    "\n",
    "Markdown docs available [here](http://daringfireball.net/projects/markdown/syntax)."
   ]
  },
  {
   "cell_type": "markdown",
   "metadata": {},
   "source": [
    "### The workspace\n",
    "\n",
    "Jupyter supplies a file-browser that is easily access by clicking the Jupyter logo in the top-left (try it now!). \n",
    "\n",
    "Because we're running in docker, the file-system you see within Jupyter is not your local file-system. Instead, we mount the project's **./work** directory into **/home/jovyan/work** in the container and **./data** into **/data**. As a result, you should see the contents of your project's **work** and **data** directories present in the Jupyter file-browser, and any changes you make in one place are reflected in the other. Try this now by dropping to a shell in your project's **work** directory and running **touch some_file**. You should see the file appears immediately in the Jupyter file browser. Go ahead and delete the file using the browser.\n",
    "\n",
    "Another interesting tool for exploring the workspace is the built-in terminal. From the brower, hit **new->terminal**, and you'll find yourself in a shell within the docker container. You can try running a command like **python** to pull up the container's Python interpreter.\n",
    "\n",
    "\n"
   ]
  },
  {
   "cell_type": "markdown",
   "metadata": {},
   "source": [
    "### Editing \n",
    "A Jupyter Notebook is a series of cells, and those cells can be either **markdown**, **code**, or **raw_nbconvert**. You can toggle a cell's type a variety of ways, but the simplest is probably to use the dropdown in the header.\n",
    "\n",
    "- To edit a cell, double-click on it, or press enter while it's highlighted.\n",
    "- To run a cell, hit ctrl-enter, or use one of the UI buttons at the top.\n",
    "- Use the arrow keys to navigate up and down through cells.\n",
    "\n",
    "**Markdown** cells document your code. Everything in this notebook up until this point has been markdown. Try double clicking on some of the above cells to see the underlying markdown, then run them to generate the formatted version. Github has a [pretty good guide](https://guides.github.com/features/mastering-markdown/) for writing markdown. Additionally, we can render Latex math expressions if we want thanks to [Mathjax](https://www.mathjax.org/).\n",
    "\n",
    "$e^x=\\sum_{i=0}^\\infty \\frac{1}{i!}x^i$ \n",
    "\n",
    "\n",
    "\n",
    "**raw_nbconvert** let's you store code without signalling the notebook to process it. Useful when you want to supply some example code that shouldn't actually execute.\n",
    "\n",
    "**Code** cells store executable code, in whatever language the specific notebook you're running is configured for. Looking in the top right of this page you can see this is a *'Python 3'* notebook. Hey, there's some Python3 code below. Why don't you try running it?"
   ]
  },
  {
   "cell_type": "code",
   "execution_count": null,
   "metadata": {},
   "outputs": [],
   "source": [
    "x = 1\n",
    "y = 2\n",
    "z = x + y\n",
    "\n",
    "print(\"Hello Notebook!\")\n",
    "print(\"The answer is {}\".format(z))"
   ]
  },
  {
   "cell_type": "markdown",
   "metadata": {},
   "source": [
    "#### Check the Help!\n",
    "\n",
    "The built-in help in Jupyter is decent, with a built-in UI tour, and a list of keyboard shortcuts. Definitely checkout the shortcuts if you're going to be spending any time with Jupyter!"
   ]
  },
  {
   "cell_type": "markdown",
   "metadata": {},
   "source": [
    "#### Onwards !\n",
    "\n",
    "You should be able to navigate around a Jupyter Notebook at this point. Why not move on to Part 2, [Intro to Python](python.ipynb) ?."
   ]
  }
 ],
 "metadata": {
  "kernelspec": {
   "display_name": "Python 3",
   "language": "python",
   "name": "python3"
  },
  "language_info": {
   "codemirror_mode": {
    "name": "ipython",
    "version": 3
   },
   "file_extension": ".py",
   "mimetype": "text/x-python",
   "name": "python",
   "nbconvert_exporter": "python",
   "pygments_lexer": "ipython3",
   "version": "3.5.2"
  }
 },
 "nbformat": 4,
 "nbformat_minor": 2
}
