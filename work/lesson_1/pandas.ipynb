{
 "cells": [
  {
   "cell_type": "markdown",
   "metadata": {
    "collapsed": true
   },
   "source": [
    "### Intro to Pandas\n",
    "\n",
    "What is Numpy?\n",
    "\n",
    "From the docs...\n",
    "> NumPy is the fundamental package for scientific computing with Python.\n",
    "\n",
    "[Numpy](http://www.numpy.org/) is a very critical library in the Python eco-system. Although we won't be using it directly that often, it is used extensively in both Pandas and Scikit-Learn, which *are* two libraries that we will be seeing a lot while exploring Machine Learning. As such, it's worth learning at least a little bit about it.\n",
    "\n",
    "We also have access to a pretty great Numpy Resource within the Safari Online book 'Python for Data Analysis'. Specifically, [chapter 4](https://www.safaribooksonline.com/library/view/python-for-data/9781449323592/ch04.html) has a very thorough rundown of Numpy, and later chapters go into even more in depth."
   ]
  }
 ],
 "metadata": {
  "kernelspec": {
   "display_name": "Python 3",
   "language": "python",
   "name": "python3"
  },
  "language_info": {
   "codemirror_mode": {
    "name": "ipython",
    "version": 3
   },
   "file_extension": ".py",
   "mimetype": "text/x-python",
   "name": "python",
   "nbconvert_exporter": "python",
   "pygments_lexer": "ipython3",
   "version": "3.6.2"
  }
 },
 "nbformat": 4,
 "nbformat_minor": 1
}
