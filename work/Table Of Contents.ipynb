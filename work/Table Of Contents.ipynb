{
 "cells": [
  {
   "cell_type": "markdown",
   "metadata": {},
   "source": [
    "### Welcome to the FIT Data Science Tutorial!\n",
    "\n",
    "Throughout these lessons I hope we can all learn the fundamentals required to begin applying data-science and machine-learning techniques here at Financeit. Let's get started!\n"
   ]
  },
  {
   "cell_type": "markdown",
   "metadata": {},
   "source": [
    "Lesson 1: \n",
    "- [Intro to Jupyter](lesson_1/jupyter.ipynb)\n",
    "- [Intro to Python](lesson_1/python.ipynb)\n",
    "- [Intro to MatPlotLib](lesson_1/test.ipynb)\n",
    "- [Intro to Numpy](lesson_1/test.ipynb)\n",
    "- [Intro to Pandas](lesson_1/test.ipynb)\n",
    "- [Looking Forward](lesson_1/test.ipynb)"
   ]
  }
 ],
 "metadata": {
  "kernelspec": {
   "display_name": "Python 3",
   "language": "python",
   "name": "python3"
  },
  "language_info": {
   "codemirror_mode": {
    "name": "ipython",
    "version": 3
   },
   "file_extension": ".py",
   "mimetype": "text/x-python",
   "name": "python",
   "nbconvert_exporter": "python",
   "pygments_lexer": "ipython3",
   "version": "3.5.2"
  }
 },
 "nbformat": 4,
 "nbformat_minor": 2
}
