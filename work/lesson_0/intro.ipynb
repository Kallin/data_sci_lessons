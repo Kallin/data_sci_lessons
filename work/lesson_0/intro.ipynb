{
 "cells": [
  {
   "cell_type": "markdown",
   "metadata": {
    "collapsed": true
   },
   "source": [
    "## What is Machine Learning (and why should you care?)\n",
    "\n",
    "---\n",
    "![comic](https://eugene-kaspersky-wpengine.netdna-ssl.com/files/2016/09/machine-learning-robots-dilbert.gif)\n",
    "\n",
    "---\n",
    "\n"
   ]
  },
  {
   "cell_type": "markdown",
   "metadata": {},
   "source": [
    "**What EXACTLY is Machine Learning?**\n",
    "\n",
    "> *ML*: Gives computers ability to learn without being told explicitly what to do. Often they improve with experience. \n",
    "\n",
    "**What about deep-learning/AI.. Is that the same thing?**\n",
    "\n",
    "> *Deep Learning*: A software technique that imitates the workings of the human brain to process data and detect patterns for use in making decisions. A sub-category of machine learning.\n",
    "\n",
    "It turns out there are many other sub-categories of ML besides deep-learning, and they all have their own strengths/weaknesses, and areas of application. We'll try to cover as many as we can!\n",
    "\n",
    "Ultimately, ML is in the business of creating **MODELS**. These Models are custom built for each specific task, often by feeding them with lots of **TRAINING** data. Once they have been built, they then offer **PREDICTIONS**, which can take a number of forms. Input is turned into Output, just like any other computer program.\n",
    "\n",
    "---"
   ]
  },
  {
   "cell_type": "markdown",
   "metadata": {},
   "source": [
    "### What's with all the hype (and why now?)\n",
    "\n",
    "ML has been around for decades, so why is it gaining so much traction all of a suddent? It seems every company is doing something with AI. It comes down to a confluence of a few things:\n",
    "\n",
    "**Developer Friendliness**\n",
    "\n",
    "ML, for the longest time, used to be the purvue of PHDs, universities, and perhaps a few larger companies who could afford to make big R&D investments. The algorithms are complex and the related math is more sophisticated than what most developers are accustomed to.\n",
    "\n",
    "Within the past few years open source libraries have been developed that abstract away a lot of the complexity of the underyling algorithms, and instead let the developers focus on tuning the best possible model for their particular problem. These libraries offer tools to help developers verify and diagnose the performance of their models, and give us hard data about how well or poorly the models will perform against unseen data.\n",
    "\n",
    "For example. look at the wikipedia page for a very popular ML algorithm like [K-Nearest-Neighbors](https://en.wikipedia.org/wiki/K-nearest_neighbors_algorithm). You no longer *need* to understand the intricacies of this and other similar algorithms, and can instead focus on finding the right one for the job.\n",
    "\n",
    "**Performance**\n",
    "\n",
    "With the explosion of cloud services like AWS, any developer has access to nearly unlimited computing power on demand. Some new and novel parallelization libraries like Google's [Tensor Flow](https://www.tensorflow.org/) which is used for training Neural Network Models, can be used to train a model in a massively parallel fashion on specialized hardware such as a GPU (Graphics Processing Unit, yay video games!).  For instance, look at the 'Accelerated Computing: P2' option available at [AWS](https://aws.amazon.com/ec2/instance-types/). Anyone can provision one of these, with 192 GB of video memory, and 16 GPUs each with 2496 cores (~40,000 cores). They can access this machine for roughly $7/hr, and prices continue to drop as performance improves. Compare that to running on your local machine which has maybe 8 or 16 cores.\n",
    "\n",
    "This type of hardware allows training of models of a size and at a speed that simply wasn't possible until very recently.\n",
    "\n",
    "\n",
    "**Very Big Data**\n",
    "\n",
    "Companies like Google, Amazon, Facebook, etc, have so much data that they can train models that would be impossible for those on the outside to immitate. **Training Data** is a key ingredient, along with the Performance and Developer Friendliness described above to build interesting models, and they have more of it than just about anyone. It has allowed them to make remarkable advances in problems like image recognition, where now their models can outperform humans in classifying the objects in images. \n",
    "\n",
    "Thankfully for everyone else, there is a trickle down effect, and techniques are available to import the results of their training (a piece of a neural network for example), and then customize it to your specific, smaller dataset. There is also an explosion of publicly available data, and private companies are all collecting more data than ever that they can use to train models and automate more and more decision making."
   ]
  },
  {
   "cell_type": "markdown",
   "metadata": {},
   "source": [
    "### Why use Machine Learning?\n",
    "\n",
    "- complex rules such as a spam filter. Easier to have a computer find the patterns than to program them all.\n",
    "- problems without known algorithmic solutions, ie. speech recognition.\n",
    "- can help humans learn. ML can find patterns humans never would that can be illuminating, aka data mining.\n",
    "- can deal with changing data, ie adjusting spam rules over time.\n",
    "\n",
    "---"
   ]
  },
  {
   "cell_type": "markdown",
   "metadata": {},
   "source": [
    "INCLUDE SOME EXAMPLES!"
   ]
  },
  {
   "cell_type": "markdown",
   "metadata": {},
   "source": [
    "Maybe not exactly, we can go into that in more detail later.\n",
    "- Talk a little about the different types of ML problems/algorithms.\n",
    "\n",
    "\n",
    "- classificatino\n",
    "- regression"
   ]
  },
  {
   "cell_type": "markdown",
   "metadata": {},
   "source": [
    "\n",
    "> so\n",
    "me quoty lskjdflskjfslkdfjkl\n",
    "\n",
    "\n",
    "sdfs\n",
    "> some quoty lskjdflskjfslkdfjkl\n",
    "\n",
    "> Test-driven development (TDD) is a software development process that relies on the repetition of a very short development cycle: requirements are turned into very specific test cases, then the software is improved to pass the new tests, only. \n",
    ">\n",
    "> --- [Test-driven development. (2016, November 20). In Wikipedia, The Free Encyclopedia. Retrieved 23:45, November 20, 2016](https://en.wikipedia.org/w/index.php?title=Test-driven_development&oldid=750634597)\n"
   ]
  },
  {
   "cell_type": "markdown",
   "metadata": {},
   "source": [
    "## an example!\n",
    "\n",
    "Let's show how we can train a well performing model and make predictions using MNIST."
   ]
  },
  {
   "cell_type": "markdown",
   "metadata": {},
   "source": [
    "---\n",
    "![comic](https://raw.githubusercontent.com/qingkaikong/blog/master/2017_12_machine_learning_funny_pictures/figures/figure_8.png)\n",
    "\n",
    "---\n"
   ]
  },
  {
   "cell_type": "markdown",
   "metadata": {},
   "source": [
    "\n",
    "\n"
   ]
  }
 ],
 "metadata": {
  "kernelspec": {
   "display_name": "Python 3",
   "language": "python",
   "name": "python3"
  },
  "language_info": {
   "codemirror_mode": {
    "name": "ipython",
    "version": 3
   },
   "file_extension": ".py",
   "mimetype": "text/x-python",
   "name": "python",
   "nbconvert_exporter": "python",
   "pygments_lexer": "ipython3",
   "version": "3.5.2"
  }
 },
 "nbformat": 4,
 "nbformat_minor": 2
}
